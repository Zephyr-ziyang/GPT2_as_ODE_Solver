{
 "cells": [
  {
   "cell_type": "code",
   "execution_count": 2,
   "metadata": {},
   "outputs": [
    {
     "name": "stdout",
     "output_type": "stream",
     "text": [
      "The autoreload extension is already loaded. To reload it, use:\n",
      "  %reload_ext autoreload\n"
     ]
    }
   ],
   "source": [
    "%matplotlib inline\n",
    "%load_ext autoreload\n",
    "%autoreload 2"
   ]
  },
  {
   "cell_type": "markdown",
   "metadata": {},
   "source": [
    "# case1plus"
   ]
  },
  {
   "cell_type": "markdown",
   "metadata": {},
   "source": [
    "## 输出样例 task 以及 sample"
   ]
  },
  {
   "cell_type": "code",
   "execution_count": null,
   "metadata": {},
   "outputs": [],
   "source": [
    "from samplers import get_data_sampler\n",
    "from tasks import get_task_sampler\n",
    "import numpy as np\n",
    "from scipy.integrate import solve_ivp\n",
    "import matplotlib.pyplot as plt\n",
    "import torch"
   ]
  },
  {
   "cell_type": "code",
   "execution_count": null,
   "metadata": {},
   "outputs": [],
   "source": [
    "taskname = 'ode_ivp_case1plus'\n",
    "dataname= 'ode_ivp_case1plus'\n",
    "\n",
    "n_dims = 50\n",
    "n_points = 41\n",
    "bsize = 64\n",
    "# n_points = 1\n",
    "# bsize = 1\n",
    "use_h = False\n",
    "quadmethod='romberg'\n",
    "# use_h = True"
   ]
  },
  {
   "cell_type": "markdown",
   "metadata": {},
   "source": [
    "## xs 加载"
   ]
  },
  {
   "cell_type": "code",
   "execution_count": null,
   "metadata": {},
   "outputs": [],
   "source": [
    "# 执行采样和计算\n",
    "data_sampler = get_data_sampler(dataname,n_dims=n_dims)\n",
    "xs = data_sampler.sample_xs(\n",
    "    n_points,\n",
    "    bsize,\n",
    "    use_h = False,\n",
    ")\n",
    "torch.save(xs, f'test_{dataname}_xs.pt')\n",
    "# h\n",
    "data_sampler = get_data_sampler(dataname,n_dims=n_dims)\n",
    "xs_h = data_sampler.sample_xs(\n",
    "    n_points,\n",
    "    bsize,\n",
    "    use_h = True,\n",
    ")\n",
    "torch.save(xs_h, f'test_{dataname}_h_xs.pt')"
   ]
  },
  {
   "cell_type": "code",
   "execution_count": null,
   "metadata": {},
   "outputs": [],
   "source": [
    "# xs = torch.load(f'test_{dataname}_xs.pt')\n",
    "# # xs_h = torch.load(f'test_{dataname}_h_xs.pt')"
   ]
  },
  {
   "cell_type": "markdown",
   "metadata": {},
   "source": [
    "## 预测"
   ]
  },
  {
   "cell_type": "code",
   "execution_count": null,
   "metadata": {},
   "outputs": [
    {
     "name": "stdout",
     "output_type": "stream",
     "text": [
      "ode_ivp_case2vec\n"
     ]
    }
   ],
   "source": [
    "print(f'{taskname}')\n",
    "y_task = get_task_sampler(taskname,n_dims=n_dims,batch_size=bsize)\n",
    "task_sampler = y_task()\n",
    "ys = task_sampler.evaluate(xs,use_h = use_h)  # 获取模型预测结果"
   ]
  },
  {
   "cell_type": "code",
   "execution_count": null,
   "metadata": {},
   "outputs": [],
   "source": [
    "print(f'{taskname}_h')\n",
    "y_task = get_task_sampler(taskname,n_dims=n_dims,batch_size=bsize)\n",
    "task_sampler = y_task()\n",
    "ys = task_sampler.evaluate(xs,use_h = use_h)  # 获取模型预测结果"
   ]
  },
  {
   "cell_type": "markdown",
   "metadata": {},
   "source": [
    "## 评估"
   ]
  },
  {
   "cell_type": "code",
   "execution_count": null,
   "metadata": {},
   "outputs": [
    {
     "ename": "NameError",
     "evalue": "name 'xs' is not defined",
     "output_type": "error",
     "traceback": [
      "\u001b[0;31m---------------------------------------------------------------------------\u001b[0m\n",
      "\u001b[0;31mNameError\u001b[0m                                 Traceback (most recent call last)\n",
      "Cell \u001b[0;32mIn[4], line 29\u001b[0m\n",
      "\u001b[1;32m     27\u001b[0m batch_idx \u001b[38;5;241m=\u001b[39m \u001b[38;5;241m2\u001b[39m\n",
      "\u001b[1;32m     28\u001b[0m point_idx \u001b[38;5;241m=\u001b[39m \u001b[38;5;241m0\u001b[39m\n",
      "\u001b[0;32m---> 29\u001b[0m alpha_1 \u001b[38;5;241m=\u001b[39m \u001b[43mxs\u001b[49m[batch_idx, point_idx, \u001b[38;5;241m0\u001b[39m]\u001b[38;5;241m.\u001b[39mitem()\n",
      "\u001b[1;32m     30\u001b[0m alpha_2 \u001b[38;5;241m=\u001b[39m xs[batch_idx, point_idx, \u001b[38;5;241m1\u001b[39m]\u001b[38;5;241m.\u001b[39mitem()\n",
      "\u001b[1;32m     31\u001b[0m beta_1 \u001b[38;5;241m=\u001b[39m xs[batch_idx, point_idx, \u001b[38;5;241m2\u001b[39m]\u001b[38;5;241m.\u001b[39mitem()\n",
      "\n",
      "\u001b[0;31mNameError\u001b[0m: name 'xs' is not defined"
     ]
    }
   ],
   "source": [
    "import numpy as np\n",
    "import torch\n",
    "from scipy.integrate import quad\n",
    "import matplotlib.pyplot as plt\n",
    "\n",
    "def analytical_solution(alpha_1, alpha_2, beta_1, beta_2, y_0, t):\n",
    "    \"\"\"\n",
    "    计算原方程的解析解\n",
    "    :param alpha_1: 方程中的参数 alpha_1\n",
    "    :param alpha_2: 方程中的参数 alpha_2\n",
    "    :param beta_1: 方程中的参数 beta_1\n",
    "    :param beta_2: 方程中的参数 beta_2\n",
    "    :param y_0: 初始条件 y(0)\n",
    "    :param t: 时间点\n",
    "    :return: 解析解在时间点 t 的值\n",
    "    \"\"\"\n",
    "    def integrand(s):\n",
    "        return beta_1 * np.exp((alpha_1 / 2) * s**2 + (alpha_2 + beta_2) * s)\n",
    "    integral, _ = quad(integrand, 0, t,\n",
    "                    epsabs=1e-12,\n",
    "                    epsrel=1e-12,\n",
    "                    limit = 100)\n",
    "    return np.exp(-((alpha_1 / 2) * t**2 + alpha_2 * t)) * (integral + y_0)\n",
    "\n",
    "# 假设 xs 是包含参数的张量，形状为 (batch_size, num_points, 7)\n",
    "# 7 个参数分别为 [alpha_1, alpha_2, beta_1, beta_2, y_0, t_e, steps]\n",
    "batch_idx = 2\n",
    "point_idx = 0\n",
    "alpha_1 = xs[batch_idx, point_idx, 0].item()\n",
    "alpha_2 = xs[batch_idx, point_idx, 1].item()\n",
    "beta_1 = xs[batch_idx, point_idx, 2].item()\n",
    "beta_2 = xs[batch_idx, point_idx, 3].item()\n",
    "y_0 = xs[batch_idx, point_idx, 4].item()\n",
    "t_e = xs[batch_idx, point_idx, 5].item()\n",
    "steps = int(xs[batch_idx, point_idx, 6].item())\n",
    "params = [alpha_1, alpha_2, beta_1, beta_2, y_0, t_e, steps]\n",
    "# 在参数提取后添加检查代码\n",
    "print(f\"当前参数检查：\\n\"\n",
    "      f\"alpha_1={alpha_1}\\nalpha_2={alpha_2}\\n\"\n",
    "      f\"beta_1={beta_1}\\nbeta_2={beta_2}\\n\"\n",
    "      f\"y0={y_0}\\nt_e={t_e}\\nsteps={steps}\")\n",
    "\n",
    "# 生成时间点\n",
    "t_points = np.linspace(0, t_e, steps)\n",
    "\n",
    "# 计算解析解\n",
    "analytical_sols = np.array([analytical_solution(alpha_1, alpha_2, beta_1, beta_2, y_0, t) for t in t_points])\n",
    "analytical_sols_2 = np.array([analytical_solution(alpha_1_, alpha_2_, beta_1_, beta_2_, y_0_, t) for t in t_points])\n",
    "# 提取 ys 和 ys_rk 对应的数据\n",
    "ys_data = ys[batch_idx, point_idx, :steps].cpu().detach().numpy()\n",
    "ys_rk_data = ys_rk[batch_idx, point_idx, :steps].cpu().detach().numpy()\n",
    "\n",
    "# 计算误差\n",
    "mae_ys = np.mean(np.abs(ys_data - analytical_sols))\n",
    "mae_ys_rk = np.mean(np.abs(ys_rk_data - analytical_sols))\n",
    "mae_ana_ananew = np.mean(np.abs(analytical_sols - analytical_sols_2))\n",
    "ys_err = np.abs(ys_data - analytical_sols)\n",
    "\n",
    "print(f\"ys的误差为：{ys_err}\")\n",
    "print(f\"ys 与解析解的平均绝对误差 (MAE): {mae_ys}\")\n",
    "print(f\"ys_rk 与解析解的平均绝对误差 (MAE): {mae_ys_rk}\")\n",
    "print(f\"解析解的平均绝对误差 (MAE): {mae_ana_ananew}\")\n",
    "\n",
    "if mae_ys < mae_ys_rk:\n",
    "    print(\"ys 的结果更接近解析解，可能 ys_rk 存在错误。\")\n",
    "elif mae_ys > mae_ys_rk:\n",
    "    print(\"ys_rk 的结果更接近解析解，可能 ys 存在错误。\")\n",
    "else:\n",
    "    print(\"ys 和 ys_rk 与解析解的误差相同。\")\n",
    "\n",
    "print(f\"使用的向量化积分方式为：{quadmethod},\\n此时的步长为:{h[batch_idx, point_idx].item()}\\n精度核实为：O(h^{np.log(mae_ys)/np.log(h[batch_idx, point_idx].item())})\")\n",
    "\n",
    "# 绘图\n",
    "plt.figure(figsize=(12, 8))\n",
    "plt.plot(t_points, analytical_sols, label='Analytical Solution', color='black', linewidth=2)\n",
    "plt.plot(t_points, analytical_sols_2, label='Analytical Solution_2', color='green', linewidth=2)\n",
    "plt.plot(t_points, ys_data, label='ys', color='blue', linestyle='--')\n",
    "plt.plot(t_points, ys_rk_data, label='ys_rk', color='red', linestyle='-.')\n",
    "plt.title('Comparison of Analytical Solution, ys and ys_rk')\n",
    "plt.xlabel('Time')\n",
    "plt.ylabel('Solution Value')\n",
    "plt.legend()\n",
    "plt.grid(True)\n",
    "plt.tight_layout()\n",
    "plt.show()"
   ]
  },
  {
   "cell_type": "markdown",
   "metadata": {},
   "source": [
    "# case 2"
   ]
  },
  {
   "cell_type": "markdown",
   "metadata": {},
   "source": [
    "## 输出样例 task 以及 sample"
   ]
  },
  {
   "cell_type": "code",
   "execution_count": 25,
   "metadata": {},
   "outputs": [],
   "source": [
    "from samplers import get_data_sampler\n",
    "from tasks import get_task_sampler\n",
    "import numpy as np\n",
    "from scipy.integrate import solve_ivp\n",
    "import matplotlib.pyplot as plt\n",
    "import torch"
   ]
  },
  {
   "cell_type": "code",
   "execution_count": 26,
   "metadata": {},
   "outputs": [],
   "source": [
    "# taskname = 'ode_ivp_case2'\n",
    "# dataname= 'ode_ivp_case2'\n",
    "\n",
    "# n_points = 41\n",
    "# n_dims = 50\n",
    "# bsize = 64"
   ]
  },
  {
   "cell_type": "code",
   "execution_count": 27,
   "metadata": {},
   "outputs": [],
   "source": [
    "# # 执行采样和计算\n",
    "# data_sampler = get_data_sampler(dataname,n_dims=n_dims)\n",
    "# xs = data_sampler.sample_xs(\n",
    "#     n_points,\n",
    "#     bsize,\n",
    "#     n_dims_truncated=3  # 假设使用完整3维\n",
    "# )\n",
    "# y_task = get_task_sampler(taskname,n_dims=n_dims,batch_size=bsize)\n",
    "# task_sampler = y_task()\n",
    "# ys = task_sampler.evaluate(xs)  # 获取模型预测结果\n"
   ]
  },
  {
   "cell_type": "code",
   "execution_count": 28,
   "metadata": {},
   "outputs": [],
   "source": [
    "# import matplotlib.pyplot as plt\n",
    "# import torch\n",
    "\n",
    "# # 可视化验证（新增部分）\n",
    "# plt.figure(figsize=(10, 6))\n",
    "\n",
    "# # 只取第一个 prompt 的前三个 point\n",
    "# num_points_to_plot = 3\n",
    "# t_ed = xs[1, 0, 5].item()  # 获取结束时间\n",
    "\n",
    "# # 生成对应的 x 点\n",
    "# x_points = []\n",
    "# for i in range(num_points_to_plot):\n",
    "#     steps = xs[1, i, 6].int().item()\n",
    "#     x = torch.linspace(0, t_ed, steps)\n",
    "#     x_points.append(x)\n",
    "\n",
    "# # 定义不同的线条样式和颜色\n",
    "# line_styles = ['-', '--', '-.']\n",
    "# colors = ['r', 'g', 'b']\n",
    "\n",
    "# # 绘制第一个 prompt 的前三个 point 的解\n",
    "# for i in range(num_points_to_plot):\n",
    "#     # 确保 Tensor 在 CPU 上并且不要求梯度计算\n",
    "#     x_np = x_points[i].cpu().detach().numpy()\n",
    "#     y_np = ys[1, i, :xs[1, i, 6].int().item()].cpu().detach().numpy()\n",
    "    \n",
    "#     # 确保每个绘图元素都有一个唯一的标签\n",
    "#     plt.plot(x_np, y_np, \n",
    "#              linestyle=line_styles[i % len(line_styles)], \n",
    "#              color=colors[i % len(colors)], \n",
    "#              label=f'Solution {i+1}', \n",
    "#              alpha=0.7,  # 调整透明度\n",
    "#              linewidth=1.5)  # 调整线条宽度\n",
    "\n",
    "# plt.title('ODE IVP Solution Verification (First prompt, first 3 points)')\n",
    "# plt.xlabel('Time steps')\n",
    "# plt.ylabel('Value')\n",
    "# plt.legend()\n",
    "# plt.grid(True)\n",
    "# plt.show()"
   ]
  },
  {
   "cell_type": "code",
   "execution_count": null,
   "metadata": {},
   "outputs": [],
   "source": [
    "# taskname = 'ode_ivp_case1plus'\n",
    "# dataname= 'ode_ivp_case1plus'\n",
    "taskname = 'ode_ivp_case2vec'\n",
    "dataname= 'ode_ivp_case2'\n",
    "\n",
    "n_dims = 50\n",
    "n_points = 41\n",
    "bsize = 64\n",
    "# n_points = 1\n",
    "# bsize = 1\n",
    "use_h = False\n",
    "quadmethod='romberg'\n",
    "# use_h = True"
   ]
  },
  {
   "cell_type": "markdown",
   "metadata": {},
   "source": [
    "## xs 加载"
   ]
  },
  {
   "cell_type": "code",
   "execution_count": 30,
   "metadata": {},
   "outputs": [],
   "source": [
    "# # 执行采样和计算\n",
    "# data_sampler = get_data_sampler(dataname,n_dims=n_dims)\n",
    "# xs = data_sampler.sample_xs(\n",
    "#     n_points,\n",
    "#     bsize,\n",
    "#     use_h = use_h\n",
    "# )\n",
    "# torch.save(xs, f'test_{dataname}_xs.pt')"
   ]
  },
  {
   "cell_type": "code",
   "execution_count": 31,
   "metadata": {},
   "outputs": [],
   "source": [
    "xs = torch.load(f'test_{dataname}_xs.pt')"
   ]
  },
  {
   "cell_type": "code",
   "execution_count": 32,
   "metadata": {},
   "outputs": [
    {
     "name": "stdout",
     "output_type": "stream",
     "text": [
      "0.11888301372528076\n"
     ]
    }
   ],
   "source": [
    "print(xs[0,0,4].item())"
   ]
  },
  {
   "cell_type": "code",
   "execution_count": 33,
   "metadata": {},
   "outputs": [
    {
     "name": "stdout",
     "output_type": "stream",
     "text": [
      "torch.float32\n"
     ]
    }
   ],
   "source": [
    "print(xs.dtype)"
   ]
  },
  {
   "cell_type": "markdown",
   "metadata": {},
   "source": [
    "## 预测"
   ]
  },
  {
   "cell_type": "code",
   "execution_count": 34,
   "metadata": {},
   "outputs": [
    {
     "name": "stdout",
     "output_type": "stream",
     "text": [
      "tensor([[0.0330, 0.0265, 0.0381,  ..., 0.0813, 0.0871, 0.0871],\n",
      "        [0.0515, 0.1504, 0.0416,  ..., 0.0698, 0.0752, 0.1630],\n",
      "        [0.0892, 0.0474, 0.0758,  ..., 0.0345, 0.0337, 0.0689],\n",
      "        ...,\n",
      "        [0.0329, 0.0420, 0.0329,  ..., 0.0360, 0.0658, 0.0721],\n",
      "        [0.0793, 0.0608, 0.0912,  ..., 0.0912, 0.2606, 0.0570],\n",
      "        [0.1535, 0.0570, 0.1814,  ..., 0.0499, 0.2495, 0.2851]],\n",
      "       device='cuda:0')\n"
     ]
    }
   ],
   "source": [
    "h = (xs[..., 5] / xs[..., 6])\n",
    "print(h)"
   ]
  },
  {
   "cell_type": "code",
   "execution_count": 35,
   "metadata": {},
   "outputs": [],
   "source": [
    "xs[0,0,6] = torch.tensor(50)"
   ]
  },
  {
   "cell_type": "code",
   "execution_count": 36,
   "metadata": {},
   "outputs": [],
   "source": [
    "# y_task = get_task_sampler(taskname,n_dims=n_dims,batch_size=bsize)\n",
    "# task_sampler = y_task()\n",
    "# ys = task_sampler.evaluate(xs,use_h = use_h,quadmethod=quadmethod)  # 获取模型预测结果"
   ]
  },
  {
   "cell_type": "code",
   "execution_count": 37,
   "metadata": {},
   "outputs": [
    {
     "name": "stdout",
     "output_type": "stream",
     "text": [
      "ode_ivp_case2vec\n"
     ]
    }
   ],
   "source": [
    "print(taskname)\n",
    "y_task = get_task_sampler(taskname,n_dims=n_dims,batch_size=bsize)\n",
    "task_sampler = y_task()\n",
    "ys = task_sampler.evaluate(xs,use_h = use_h)  # 获取模型预测结果"
   ]
  },
  {
   "cell_type": "code",
   "execution_count": 38,
   "metadata": {},
   "outputs": [
    {
     "name": "stdout",
     "output_type": "stream",
     "text": [
      "0.11888301372528076\n"
     ]
    }
   ],
   "source": [
    "print(xs[0,0,4].item())"
   ]
  },
  {
   "cell_type": "code",
   "execution_count": 39,
   "metadata": {},
   "outputs": [],
   "source": [
    "y_task_truth = get_task_sampler('ode_ivp_case2',n_dims=n_dims,batch_size=bsize)\n",
    "task_sampler_truth = y_task_truth()\n",
    "ys_truth = task_sampler_truth.evaluate(xs,use_h = use_h)"
   ]
  },
  {
   "cell_type": "code",
   "execution_count": 40,
   "metadata": {},
   "outputs": [
    {
     "name": "stdout",
     "output_type": "stream",
     "text": [
      "0.11888301372528076\n"
     ]
    }
   ],
   "source": [
    "print(xs[0,0,4].item())"
   ]
  },
  {
   "cell_type": "code",
   "execution_count": 41,
   "metadata": {},
   "outputs": [],
   "source": [
    "y_task_rk = get_task_sampler('ode_ivp_case2RK',n_dims=n_dims,batch_size=bsize)\n",
    "task_sampler_rk = y_task_rk()\n",
    "ys_rk = task_sampler_rk.evaluate(xs,use_h = use_h)"
   ]
  },
  {
   "cell_type": "code",
   "execution_count": 42,
   "metadata": {},
   "outputs": [
    {
     "name": "stdout",
     "output_type": "stream",
     "text": [
      "0.11888301372528076\n"
     ]
    }
   ],
   "source": [
    "print(xs[0,0,4].item())"
   ]
  },
  {
   "cell_type": "code",
   "execution_count": 43,
   "metadata": {},
   "outputs": [
    {
     "name": "stdout",
     "output_type": "stream",
     "text": [
      "tensor(2.3184e-07, device='cuda:0')\n"
     ]
    }
   ],
   "source": [
    "print(torch.mean((ys-ys_truth)**2))"
   ]
  },
  {
   "cell_type": "code",
   "execution_count": 44,
   "metadata": {},
   "outputs": [
    {
     "name": "stdout",
     "output_type": "stream",
     "text": [
      "tensor(0.0476, device='cuda:0')\n"
     ]
    }
   ],
   "source": [
    "print(torch.max((ys-ys_rk)))"
   ]
  },
  {
   "cell_type": "code",
   "execution_count": 45,
   "metadata": {},
   "outputs": [
    {
     "name": "stdout",
     "output_type": "stream",
     "text": [
      "tensor(1.3102e-05, device='cuda:0')\n"
     ]
    }
   ],
   "source": [
    "print(torch.mean((ys-ys_rk)**2))"
   ]
  },
  {
   "cell_type": "code",
   "execution_count": 46,
   "metadata": {},
   "outputs": [
    {
     "name": "stdout",
     "output_type": "stream",
     "text": [
      "tensor(1.2877e-05, device='cuda:0')\n"
     ]
    }
   ],
   "source": [
    "print(torch.mean((ys_rk-ys_truth)**2))"
   ]
  },
  {
   "cell_type": "markdown",
   "metadata": {},
   "source": [
    "## 评估"
   ]
  },
  {
   "cell_type": "code",
   "execution_count": 4,
   "metadata": {},
   "outputs": [
    {
     "ename": "NameError",
     "evalue": "name 'xs' is not defined",
     "output_type": "error",
     "traceback": [
      "\u001b[0;31m---------------------------------------------------------------------------\u001b[0m",
      "\u001b[0;31mNameError\u001b[0m                                 Traceback (most recent call last)",
      "Cell \u001b[0;32mIn[4], line 29\u001b[0m\n\u001b[1;32m     27\u001b[0m batch_idx \u001b[38;5;241m=\u001b[39m \u001b[38;5;241m2\u001b[39m\n\u001b[1;32m     28\u001b[0m point_idx \u001b[38;5;241m=\u001b[39m \u001b[38;5;241m0\u001b[39m\n\u001b[0;32m---> 29\u001b[0m alpha_1 \u001b[38;5;241m=\u001b[39m \u001b[43mxs\u001b[49m[batch_idx, point_idx, \u001b[38;5;241m0\u001b[39m]\u001b[38;5;241m.\u001b[39mitem()\n\u001b[1;32m     30\u001b[0m alpha_2 \u001b[38;5;241m=\u001b[39m xs[batch_idx, point_idx, \u001b[38;5;241m1\u001b[39m]\u001b[38;5;241m.\u001b[39mitem()\n\u001b[1;32m     31\u001b[0m beta_1 \u001b[38;5;241m=\u001b[39m xs[batch_idx, point_idx, \u001b[38;5;241m2\u001b[39m]\u001b[38;5;241m.\u001b[39mitem()\n",
      "\u001b[0;31mNameError\u001b[0m: name 'xs' is not defined"
     ]
    }
   ],
   "source": [
    "import numpy as np\n",
    "import torch\n",
    "from scipy.integrate import quad\n",
    "import matplotlib.pyplot as plt\n",
    "\n",
    "def analytical_solution(alpha_1, alpha_2, beta_1, beta_2, y_0, t):\n",
    "    \"\"\"\n",
    "    计算原方程的解析解\n",
    "    :param alpha_1: 方程中的参数 alpha_1\n",
    "    :param alpha_2: 方程中的参数 alpha_2\n",
    "    :param beta_1: 方程中的参数 beta_1\n",
    "    :param beta_2: 方程中的参数 beta_2\n",
    "    :param y_0: 初始条件 y(0)\n",
    "    :param t: 时间点\n",
    "    :return: 解析解在时间点 t 的值\n",
    "    \"\"\"\n",
    "    def integrand(s):\n",
    "        return beta_1 * np.exp((alpha_1 / 2) * s**2 + (alpha_2 + beta_2) * s)\n",
    "    integral, _ = quad(integrand, 0, t,\n",
    "                    epsabs=1e-12,\n",
    "                    epsrel=1e-12,\n",
    "                    limit = 100)\n",
    "    return np.exp(-((alpha_1 / 2) * t**2 + alpha_2 * t)) * (integral + y_0)\n",
    "\n",
    "# 假设 xs 是包含参数的张量，形状为 (batch_size, num_points, 7)\n",
    "# 7 个参数分别为 [alpha_1, alpha_2, beta_1, beta_2, y_0, t_e, steps]\n",
    "batch_idx = 2\n",
    "point_idx = 0\n",
    "alpha_1 = xs[batch_idx, point_idx, 0].item()\n",
    "alpha_2 = xs[batch_idx, point_idx, 1].item()\n",
    "beta_1 = xs[batch_idx, point_idx, 2].item()\n",
    "beta_2 = xs[batch_idx, point_idx, 3].item()\n",
    "y_0 = xs[batch_idx, point_idx, 4].item()\n",
    "t_e = xs[batch_idx, point_idx, 5].item()\n",
    "steps = int(xs[batch_idx, point_idx, 6].item())\n",
    "params = [alpha_1, alpha_2, beta_1, beta_2, y_0, t_e, steps]\n",
    "# 在参数提取后添加检查代码\n",
    "print(f\"当前参数检查：\\n\"\n",
    "      f\"alpha_1={alpha_1}\\nalpha_2={alpha_2}\\n\"\n",
    "      f\"beta_1={beta_1}\\nbeta_2={beta_2}\\n\"\n",
    "      f\"y0={y_0}\\nt_e={t_e}\\nsteps={steps}\")\n",
    "\n",
    "# 生成时间点\n",
    "t_points = np.linspace(0, t_e, steps)\n",
    "\n",
    "# 计算解析解\n",
    "analytical_sols = np.array([analytical_solution(alpha_1, alpha_2, beta_1, beta_2, y_0, t) for t in t_points])\n",
    "analytical_sols_2 = np.array([analytical_solution(alpha_1_, alpha_2_, beta_1_, beta_2_, y_0_, t) for t in t_points])\n",
    "# 提取 ys 和 ys_rk 对应的数据\n",
    "ys_data = ys[batch_idx, point_idx, :steps].cpu().detach().numpy()\n",
    "ys_rk_data = ys_rk[batch_idx, point_idx, :steps].cpu().detach().numpy()\n",
    "\n",
    "# 计算误差\n",
    "mae_ys = np.mean(np.abs(ys_data - analytical_sols))\n",
    "mae_ys_rk = np.mean(np.abs(ys_rk_data - analytical_sols))\n",
    "mae_ana_ananew = np.mean(np.abs(analytical_sols - analytical_sols_2))\n",
    "ys_err = np.abs(ys_data - analytical_sols)\n",
    "\n",
    "print(f\"ys的误差为：{ys_err}\")\n",
    "print(f\"ys 与解析解的平均绝对误差 (MAE): {mae_ys}\")\n",
    "print(f\"ys_rk 与解析解的平均绝对误差 (MAE): {mae_ys_rk}\")\n",
    "print(f\"解析解的平均绝对误差 (MAE): {mae_ana_ananew}\")\n",
    "\n",
    "if mae_ys < mae_ys_rk:\n",
    "    print(\"ys 的结果更接近解析解，可能 ys_rk 存在错误。\")\n",
    "elif mae_ys > mae_ys_rk:\n",
    "    print(\"ys_rk 的结果更接近解析解，可能 ys 存在错误。\")\n",
    "else:\n",
    "    print(\"ys 和 ys_rk 与解析解的误差相同。\")\n",
    "\n",
    "print(f\"使用的向量化积分方式为：{quadmethod},\\n此时的步长为:{h[batch_idx, point_idx].item()}\\n精度核实为：O(h^{np.log(mae_ys)/np.log(h[batch_idx, point_idx].item())})\")\n",
    "\n",
    "# 绘图\n",
    "plt.figure(figsize=(12, 8))\n",
    "plt.plot(t_points, analytical_sols, label='Analytical Solution', color='black', linewidth=2)\n",
    "plt.plot(t_points, analytical_sols_2, label='Analytical Solution_2', color='green', linewidth=2)\n",
    "plt.plot(t_points, ys_data, label='ys', color='blue', linestyle='--')\n",
    "plt.plot(t_points, ys_rk_data, label='ys_rk', color='red', linestyle='-.')\n",
    "plt.title('Comparison of Analytical Solution, ys and ys_rk')\n",
    "plt.xlabel('Time')\n",
    "plt.ylabel('Solution Value')\n",
    "plt.legend()\n",
    "plt.grid(True)\n",
    "plt.tight_layout()\n",
    "plt.show()"
   ]
  },
  {
   "cell_type": "markdown",
   "metadata": {},
   "source": [
    "## 验证代码问题"
   ]
  },
  {
   "cell_type": "code",
   "execution_count": null,
   "metadata": {},
   "outputs": [],
   "source": [
    "# print(xs[0,0,4].item())"
   ]
  },
  {
   "cell_type": "code",
   "execution_count": null,
   "metadata": {},
   "outputs": [],
   "source": [
    "# paras = torch.load(\"paras.pt\")\n",
    "# taskpara_tensor  = torch.load(\"params_tensor.pt\")\n",
    "# taskpara = np.load(\"params_debug.npy\")\n",
    "# taskpara = taskpara[0,0]\n",
    "# taskpara_tensor = taskpara_tensor[0,0]"
   ]
  },
  {
   "cell_type": "code",
   "execution_count": null,
   "metadata": {},
   "outputs": [],
   "source": [
    "# print(paras[4])\n",
    "# print(taskpara[4])\n",
    "# print(taskpara_tensor[4].item())"
   ]
  },
  {
   "cell_type": "code",
   "execution_count": null,
   "metadata": {},
   "outputs": [],
   "source": [
    "# print(xs[0,0,:7])"
   ]
  },
  {
   "cell_type": "code",
   "execution_count": null,
   "metadata": {},
   "outputs": [],
   "source": [
    "# print(xs.dtype)\n",
    "# print(taskpara_tensor.dtype)\n",
    "# print(type(paras[0]))"
   ]
  },
  {
   "cell_type": "code",
   "execution_count": null,
   "metadata": {},
   "outputs": [],
   "source": [
    "for i in range(100):\n",
    "    data_sampler = get_data_sampler(dataname,n_dims=n_dims)\n",
    "    xs = data_sampler.sample_xs(\n",
    "        n_points,\n",
    "        bsize,\n",
    "        use_h = use_h\n",
    "    )\n",
    "    y_task = get_task_sampler(taskname,n_dims=n_dims,batch_size=bsize)\n",
    "    task_sampler = y_task()\n",
    "    ys = task_sampler.evaluate(xs,use_h = use_h)  # 获取模型预测结果"
   ]
  },
  {
   "cell_type": "code",
   "execution_count": null,
   "metadata": {},
   "outputs": [],
   "source": [
    "# 在计算解析解之后添加验证代码\n",
    "t_target = t_e  # 测试终点\n",
    "direct_integral, _ = quad(\n",
    "    lambda s: beta_1 * np.exp((alpha_1/2)*s**2 + (alpha_2 + beta_2)*s),\n",
    "    0, t_target,\n",
    "    epsabs=1e-15,\n",
    "    epsrel=1e-15,\n",
    "    limit=500\n",
    ")\n",
    "\n",
    "cumulative_integral = sum(\n",
    "    quad(\n",
    "        lambda s: beta_1 * np.exp((alpha_1/2)*s**2 + (alpha_2 + beta_2)*s),\n",
    "        pre_t, curr_t,\n",
    "        epsabs=1e-15,\n",
    "        epsrel=1e-15,\n",
    "        limit=500\n",
    "    )[0]\n",
    "    for pre_t, curr_t in zip(t_points[:-1], t_points[1:])\n",
    ")\n",
    "\n",
    "print(f\"直接积分结果: {direct_integral:.15f}\")\n",
    "print(f\"累积积分结果: {cumulative_integral:.15f}\")\n",
    "print(f\"绝对差异: {abs(direct_integral - cumulative_integral):.2e}\")"
   ]
  },
  {
   "cell_type": "markdown",
   "metadata": {},
   "source": [
    "## loss 测试"
   ]
  },
  {
   "cell_type": "code",
   "execution_count": null,
   "metadata": {},
   "outputs": [],
   "source": [
    "steptable = task_sampler.get_training_steptable(xs,use_h = use_h).cuda()\n",
    "# 增强损失 每个数据点计算前几个的损失\n",
    "loss_func = task_sampler.get_enhanced_training_metric(steptable)  # 损失metric\n",
    "point_wise_loss_func = task_sampler.get_enhanced_metric(steptable)  # loss_func"
   ]
  },
  {
   "cell_type": "code",
   "execution_count": null,
   "metadata": {},
   "outputs": [],
   "source": [
    "min_val = steptable.min().item()  # 获取全局最小值\n",
    "max_val = steptable.max().item()\n",
    "print(min_val, max_val)"
   ]
  }
 ],
 "metadata": {
  "kernelspec": {
   "display_name": "in-context-learning",
   "language": "python",
   "name": "python3"
  },
  "language_info": {
   "codemirror_mode": {
    "name": "ipython",
    "version": 3
   },
   "file_extension": ".py",
   "mimetype": "text/x-python",
   "name": "python",
   "nbconvert_exporter": "python",
   "pygments_lexer": "ipython3",
   "version": "3.8.12"
  }
 },
 "nbformat": 4,
 "nbformat_minor": 2
}
